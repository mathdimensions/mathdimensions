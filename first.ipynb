{
  "metadata": {
    "language_info": {
      "codemirror_mode": {
        "name": "python",
        "version": 3
      },
      "file_extension": ".py",
      "mimetype": "text/x-python",
      "name": "python",
      "nbconvert_exporter": "python",
      "pygments_lexer": "ipython3",
      "version": "3.8"
    },
    "kernelspec": {
      "name": "python",
      "display_name": "Python (Pyodide)",
      "language": "python"
    }
  },
  "nbformat_minor": 4,
  "nbformat": 4,
  "cells": [
    {
      "cell_type": "markdown",
      "source": "# Mathematical Python",
      "metadata": {}
    },
    {
      "cell_type": "markdown",
      "source": "*First we will begin with basic arithmetic using python*",
      "metadata": {}
    },
    {
      "cell_type": "markdown",
      "source": "**Addition**",
      "metadata": {}
    },
    {
      "cell_type": "code",
      "source": "10 + 4",
      "metadata": {
        "trusted": true
      },
      "execution_count": 5,
      "outputs": [
        {
          "execution_count": 5,
          "output_type": "execute_result",
          "data": {
            "text/plain": "14"
          },
          "metadata": {}
        }
      ]
    },
    {
      "cell_type": "markdown",
      "source": "**Subtraction**",
      "metadata": {}
    },
    {
      "cell_type": "code",
      "source": "10 - 4",
      "metadata": {
        "trusted": true
      },
      "execution_count": 6,
      "outputs": [
        {
          "execution_count": 6,
          "output_type": "execute_result",
          "data": {
            "text/plain": "6"
          },
          "metadata": {}
        }
      ]
    },
    {
      "cell_type": "markdown",
      "source": "**Multiplication**",
      "metadata": {}
    },
    {
      "cell_type": "code",
      "source": "10 * 4",
      "metadata": {
        "trusted": true
      },
      "execution_count": 7,
      "outputs": [
        {
          "execution_count": 7,
          "output_type": "execute_result",
          "data": {
            "text/plain": "40"
          },
          "metadata": {}
        }
      ]
    },
    {
      "cell_type": "markdown",
      "source": "**Exponentiation**",
      "metadata": {}
    },
    {
      "cell_type": "code",
      "source": "10**4",
      "metadata": {
        "trusted": true
      },
      "execution_count": 9,
      "outputs": [
        {
          "execution_count": 9,
          "output_type": "execute_result",
          "data": {
            "text/plain": "10000"
          },
          "metadata": {}
        }
      ]
    },
    {
      "cell_type": "code",
      "source": "import IPython.display as display",
      "metadata": {},
      "execution_count": null,
      "outputs": []
    },
    {
      "cell_type": "code",
      "source": "fig01 = \"\"\"\n<iframe width=\"800\" height=\"500\" src=\"https://www.geogebra.org/graphing/c6dg3cth\" style=\"border: 1px solid black\"></iframe>\n\"\"\"\ndisplay.HTML(fig01)",
      "metadata": {
        "trusted": true
      },
      "execution_count": 8,
      "outputs": [
        {
          "execution_count": 8,
          "output_type": "execute_result",
          "data": {
            "text/plain": "<IPython.core.display.HTML object>",
            "text/html": "\n<iframe width=\"800\" height=\"500\" src=\"https://www.geogebra.org/graphing/c6dg3cth\" style=\"border: 1px solid black\"></iframe>\n"
          },
          "metadata": {}
        }
      ]
    },
    {
      "cell_type": "code",
      "source": "",
      "metadata": {},
      "execution_count": null,
      "outputs": []
    }
  ]
}